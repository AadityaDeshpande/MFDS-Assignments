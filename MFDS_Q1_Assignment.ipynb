{
 "cells": [
  {
   "cell_type": "code",
   "execution_count": 34,
   "metadata": {},
   "outputs": [],
   "source": [
    "import numpy as np\n",
    "from numpy import linalg as LA\n",
    "import matplotlib.pyplot as plt"
   ]
  },
  {
   "cell_type": "markdown",
   "metadata": {},
   "source": [
    "#### Question - 1 (i)"
   ]
  },
  {
   "cell_type": "code",
   "execution_count": 35,
   "metadata": {},
   "outputs": [
    {
     "name": "stdout",
     "output_type": "stream",
     "text": [
      "[[ -8 -10  -4   0]\n",
      " [  4   3   4   6]\n",
      " [  3  -6   2   3]\n",
      " [ -8   9   3   3]]\n",
      "\n",
      "NOT Diagonally Dominant\n"
     ]
    }
   ],
   "source": [
    "def DiagDom(A) -> None:\n",
    "    \"\"\"Function that checks if the given matrix is diagonal dominant or not.\"\"\"\n",
    "    diag_coeff = np.diag(np.abs(A))\n",
    "    row_sum = np.sum(np.abs(A), axis=1) - diag_coeff\n",
    "    if np.all(diag_coeff > row_sum):\n",
    "        print(\"\\nMatrix is Diagonally Dominant\")\n",
    "    else:\n",
    "        print(\"\\nNOT Diagonally Dominant\")\n",
    "    return\n",
    "\n",
    "\n",
    "A = np.random.randint(-10, 10, size=(4, 4))\n",
    "print(A)\n",
    "DiagDom(A)\n"
   ]
  },
  {
   "cell_type": "code",
   "execution_count": 36,
   "metadata": {},
   "outputs": [],
   "source": [
    "def generate_Diag_Dominant_matrix():\n",
    "    \"\"\"\n",
    "    This function will generate diagonal dominant martix.\n",
    "    This function may take time as matrix generation is completely random.\n",
    "    \"\"\"\n",
    "    flag = True\n",
    "    iteration_counter = 0\n",
    "    while flag:\n",
    "        A = np.random.randint(-10, 10, size=(4, 4))\n",
    "        diag_coeff = np.diag(np.abs(A))\n",
    "        row_sum = np.sum(np.abs(A), axis=1) - diag_coeff\n",
    "        if np.all(diag_coeff > row_sum):\n",
    "            flag = False\n",
    "        else:\n",
    "            flag = True\n",
    "        iteration_counter += 1\n",
    "    # print(f\"Diagonal dominant martix Iteration completed after {iteration_counter} iterations\")\n",
    "    print(A)\n",
    "    return A\n",
    "\n",
    "\n",
    "# generate_Diag_Dominant_matrix()\n"
   ]
  },
  {
   "cell_type": "markdown",
   "metadata": {},
   "source": [
    "#### Question - 1 (ii)"
   ]
  },
  {
   "cell_type": "code",
   "execution_count": 37,
   "metadata": {},
   "outputs": [],
   "source": [
    "def gauss_seidal(A, b, n, iteration_print_count=5) -> list:\n",
    "    \"\"\"Implementation of Gauss seidal Algorithm\"\"\"\n",
    "    # this list will contain the np.linalg.norm(<difference arry>)\n",
    "    iterations_list = []\n",
    "    print(\"System of equations:\\n\")\n",
    "    # iterating over the rows\n",
    "    for i in range(A.shape[0]):\n",
    "        row = [\"{0:3g}*x{1}\".format(A[i, j], j + 1) for j in range(A.shape[1])]\n",
    "        print(\"[{0}] = [{1:3g}]\".format(\" + \".join(row), b[i]))\n",
    "        x = np.zeros_like(b)\n",
    "\n",
    "    print(\"\\nIterations:\\n\")\n",
    "\n",
    "    # Perform n number of iterations\n",
    "    for it_count in range(0, n):\n",
    "        x_new = np.zeros_like(x)\n",
    "        if it_count < iteration_print_count:\n",
    "            print(\"Iteration {0}: {1}\".format(it_count, x))\n",
    "            print(\"1 Norm\", np.linalg.norm(x, ord=1))\n",
    "            print(\"Inf Norm: \", LA.norm(x, np.inf))\n",
    "            print(\"Frobenius Norm\", np.linalg.norm(x, ord=2))\n",
    "            print(\"*\" * 50)\n",
    "\n",
    "        for i in range(A.shape[0]):\n",
    "            # using new values directly in x_new\n",
    "            s1 = np.dot(A[i, :i], x_new[:i])\n",
    "            s2 = np.dot(A[i, i + 1 :], x[i + 1 :])\n",
    "            x_new[i] = (b[i] - s1 - s2) / A[i, i]\n",
    "            if np.allclose(x, x_new, rtol=1e-8):\n",
    "                break\n",
    "        diff_matrix = x_new - x\n",
    "        iterations_list.append(np.linalg.norm(diff_matrix))\n",
    "        x = x_new\n",
    "\n",
    "    error = np.dot(A, x) - b    \n",
    "    print(f\"\\nAfter {n} iterations we have\")\n",
    "    print(\"\\nSolution: {0}\".format(x))\n",
    "    print(\"\\nError term in each x: {0}\".format(error))\n",
    "\n",
    "    return iterations_list\n"
   ]
  },
  {
   "cell_type": "code",
   "execution_count": 38,
   "metadata": {},
   "outputs": [
    {
     "name": "stdout",
     "output_type": "stream",
     "text": [
      "System of equations:\n",
      "\n",
      "[  2*x1 +   1*x2 +   4*x3 +   3*x4] = [  2]\n",
      "[  1*x1 +   2*x2 +   1*x3 +   1*x4] = [  1]\n",
      "[  4*x1 +   3*x2 +   3*x3 +   4*x4] = [  4]\n",
      "[  4*x1 +   1*x2 +   3*x3 +   3*x4] = [  5]\n",
      "\n",
      "Iterations:\n",
      "\n",
      "Iteration 0: [0. 0. 0. 0.]\n",
      "1 Norm 0.0\n",
      "Inf Norm:  0.0\n",
      "Frobenius Norm 0.0\n",
      "**************************************************\n",
      "Iteration 1: [1.         0.         0.         0.33333333]\n",
      "1 Norm 1.3333333333333333\n",
      "Inf Norm:  1.0\n",
      "Frobenius Norm 1.0540925533894598\n",
      "**************************************************\n",
      "Iteration 2: [0.5        0.08333333 0.13888889 0.83333333]\n",
      "1 Norm 1.5555555555555558\n",
      "Inf Norm:  0.8333333333333334\n",
      "Frobenius Norm 0.9852304361649\n",
      "**************************************************\n",
      "Iteration 3: [-0.56944444  0.29861111  0.68287037  1.64351852]\n",
      "1 Norm 3.1944444444444446\n",
      "Inf Norm:  1.6435185185185188\n",
      "Frobenius Norm 1.8923267779193762\n",
      "**************************************************\n",
      "Iteration 4: [-2.98032407  0.82696759  2.28877315  3.07600309]\n",
      "1 Norm 9.17206790123457\n",
      "Inf Norm:  3.0760030864197545\n",
      "Frobenius Norm 4.9261023636392\n",
      "**************************************************\n",
      "\n",
      "After 5 iterations we have\n",
      "\n",
      "Solution: [-8.60503472  2.12012924  6.58524627  5.84809028]\n",
      "\n",
      "Error term in each x: [26.79531572  7.06856031 11.08834877  0.        ]\n"
     ]
    }
   ],
   "source": [
    "# n is number of iterations\n",
    "n = 5\n",
    "# initialize the matrix\n",
    "A = np.random.randint(1, 5, size=(4, 4))\n",
    "# initialize the RHS vector\n",
    "b = np.round(np.random.uniform(1, 5, 4), 0)\n",
    "gauss_seidal(A, b, n);\n"
   ]
  },
  {
   "cell_type": "markdown",
   "metadata": {},
   "source": [
    "#### Question - 1 (iii)"
   ]
  },
  {
   "cell_type": "code",
   "execution_count": 39,
   "metadata": {},
   "outputs": [],
   "source": [
    "def gauss_jacobi(A, b, n, iteration_print_count=5):\n",
    "    # this list will contain the np.linalg.norm(<difference arry>)\n",
    "    iterations_list = []\n",
    "    # prints the system\n",
    "    print(\"System of equations:\\n\")\n",
    "    for i in range(A.shape[0]):\n",
    "        row = [\"{}*x{}\".format(A[i, j], j + 1) for j in range(A.shape[1])]\n",
    "        print(\"[{0}] = [{1:3g}]\".format(\" + \".join(row), b[i]))\n",
    "    print(\"\\nIterations:\\n\")\n",
    "    x = np.zeros_like(b)\n",
    "    for it_count in range(n):\n",
    "        if it_count < iteration_print_count:\n",
    "            print(\"Iteration {0}: {1}\".format(it_count, x))\n",
    "            print(\"1 Norm\", np.linalg.norm(x, ord=1))\n",
    "            print(\"Inf Norm: \", LA.norm(x, np.inf))\n",
    "            print(\"Frobenius Norm\", np.linalg.norm(x, ord=2))\n",
    "            print(\"*\" * 50)\n",
    "\n",
    "        x_new = np.zeros_like(x)\n",
    "\n",
    "        for i in range(A.shape[0]):\n",
    "            s1 = np.dot(A[i, :i], x[:i])\n",
    "            s2 = np.dot(A[i, i + 1 :], x[i + 1 :])\n",
    "            # update x_new at the last\n",
    "            x_new[i] = (b[i] - s1 - s2) / A[i, i]\n",
    "        if np.allclose(x, x_new, atol=1e-10, rtol=0.0):\n",
    "            break\n",
    "        diff_matrix = x_new - x\n",
    "        iterations_list.append(np.linalg.norm(diff_matrix))\n",
    "        x = x_new\n",
    "\n",
    "    error = np.dot(A, x) - b\n",
    "    print(f\"\\nAfter {n} iterations we have\")\n",
    "    print(\"\\nSolution: {0}\".format(x))\n",
    "    print(\"\\nError term in each x: {0}\".format(error))\n",
    "    return iterations_list\n"
   ]
  },
  {
   "cell_type": "code",
   "execution_count": 40,
   "metadata": {},
   "outputs": [
    {
     "name": "stdout",
     "output_type": "stream",
     "text": [
      "System of equations:\n",
      "\n",
      "[9*x1 + 6*x2 + 4*x3 + 2*x4] = [  4]\n",
      "[9*x1 + 1*x2 + 3*x3 + 7*x4] = [  1]\n",
      "[8*x1 + 7*x2 + 1*x3 + 4*x4] = [  1]\n",
      "[4*x1 + 8*x2 + 9*x3 + 6*x4] = [  4]\n",
      "\n",
      "Iterations:\n",
      "\n",
      "Iteration 0: [0. 0. 0. 0.]\n",
      "1 Norm 0.0\n",
      "Inf Norm:  0.0\n",
      "Frobenius Norm 0.0\n",
      "**************************************************\n",
      "Iteration 1: [0.44444444 1.         1.         0.66666667]\n",
      "1 Norm 3.111111111111111\n",
      "Inf Norm:  1.0\n",
      "Frobenius Norm 1.625415426480866\n",
      "**************************************************\n",
      "Iteration 2: [ -0.81481481 -10.66666667 -12.22222222  -2.46296296]\n",
      "1 Norm 26.166666666666664\n",
      "Inf Norm:  12.222222222222221\n",
      "Frobenius Norm 16.428347560437402\n",
      "**************************************************\n",
      "Iteration 3: [13.53497942 62.24074074 92.03703704 33.7654321 ]\n",
      "1 Norm 201.5781893004115\n",
      "Inf Norm:  92.03703703703702\n",
      "Frobenius Norm 116.91033344975929\n",
      "**************************************************\n",
      "Iteration 4: [ -89.45816187 -633.28395062 -678.02674897 -229.39986283]\n",
      "1 Norm 1630.1687242798353\n",
      "Inf Norm:  678.0267489711935\n",
      "Frobenius Norm 959.8936890191211\n",
      "**************************************************\n",
      "\n",
      "After 5 iterations we have\n",
      "\n",
      "Solution: [ 774.95671392 4446.00274348 6067.25240055 1921.72416552]\n",
      "\n",
      "Error term in each x: [ 61759.08481939  43073.43952904  51074.82197836 104799.46540162]\n"
     ]
    }
   ],
   "source": [
    "n = 5\n",
    "# initialize the matrix\n",
    "A = np.random.randint(1, 10, size=(4, 4))\n",
    "# initialize the RHS vector\n",
    "b = np.round(np.random.uniform(1, 5, 4), 0)\n",
    "gauss_jacobi(A, b, n);\n"
   ]
  },
  {
   "cell_type": "markdown",
   "metadata": {},
   "source": [
    "#### Question - 1 (iv)"
   ]
  },
  {
   "cell_type": "code",
   "execution_count": 41,
   "metadata": {},
   "outputs": [
    {
     "name": "stdout",
     "output_type": "stream",
     "text": [
      "[[  9   5   0   0]\n",
      " [  1 -10   5   3]\n",
      " [  1  -4 -10   2]\n",
      " [  5  -2   1  -9]]\n",
      "Matrix is Diagonally Dominant\n",
      "\n",
      "System of equations:\n",
      "\n",
      "[  9*x1 +   5*x2 +   0*x3 +   0*x4] = [  3]\n",
      "[  1*x1 + -10*x2 +   5*x3 +   3*x4] = [  2]\n",
      "[  1*x1 +  -4*x2 + -10*x3 +   2*x4] = [  2]\n",
      "[  5*x1 +  -2*x2 +   1*x3 +  -9*x4] = [  2]\n",
      "\n",
      "Iterations:\n",
      "\n",
      "Iteration 0: [0. 0. 0. 0.]\n",
      "1 Norm 0.0\n",
      "Inf Norm:  0.0\n",
      "Frobenius Norm 0.0\n",
      "**************************************************\n",
      "Iteration 1: [ 0.33333333 -0.16666667 -0.1        -0.01111111]\n",
      "1 Norm 0.611111111111111\n",
      "Inf Norm:  0.3333333333333333\n",
      "Frobenius Norm 0.38602117257867136\n",
      "**************************************************\n",
      "Iteration 2: [ 0.42592593 -0.21074074 -0.07533333  0.0528642 ]\n",
      "1 Norm 0.7648641975308642\n",
      "Inf Norm:  0.42592592592592593\n",
      "Frobenius Norm 0.4840395528007053\n",
      "**************************************************\n",
      "Iteration 3: [ 0.45041152 -0.17676626 -0.07367951  0.05910118]\n",
      "1 Norm 0.7599584636488341\n",
      "Inf Norm:  0.45041152263374484\n",
      "Frobenius Norm 0.4929893180896399\n",
      "**************************************************\n",
      "Iteration 4: [ 0.43153681 -0.17595572 -0.0746438   0.04832796]\n",
      "1 Norm 0.7304642873952141\n",
      "Inf Norm:  0.4315368084133516\n",
      "Frobenius Norm 0.47443832083070525\n",
      "**************************************************\n",
      "\n",
      "After 100 iterations we have\n",
      "\n",
      "Solution: [ 0.43293493 -0.17928287 -0.0750332   0.0498008 ]\n",
      "\n",
      "Error term in each x: [0.0000000e+00 4.4408921e-16 0.0000000e+00 0.0000000e+00]\n"
     ]
    },
    {
     "data": {
      "image/png": "[encoded data removed]",
      "text/plain": [
       "<Figure size 432x288 with 1 Axes>"
      ]
     },
     "metadata": {
      "needs_background": "light"
     },
     "output_type": "display_data"
    }
   ],
   "source": [
    "def DiagDom(A):\n",
    "    diag_coeff = np.diag(np.abs(A))\n",
    "    row_sum = np.sum(np.abs(A), axis=1) - diag_coeff\n",
    "    if np.all(diag_coeff > row_sum):\n",
    "        print(\"Matrix is Diagonally Dominant\\n\")\n",
    "    else:\n",
    "        print(\"NOT Diagonally Dominant\\n\")\n",
    "    return\n",
    "\n",
    "\n",
    "n = 100\n",
    "A = generate_Diag_Dominant_matrix()\n",
    "b = np.round(np.random.uniform(1, 5, 4), 0)  # B can be randomly initialised\n",
    "DiagDom(A)\n",
    "iteration_list = gauss_seidal(A, b, n)\n",
    "# print(iteration_list)\n",
    "\n",
    "plt.plot(iteration_list)\n",
    "plt.xlabel(\"Iterations\")\n",
    "plt.ylabel(\"vector norm\")\n",
    "plt.show()\n"
   ]
  },
  {
   "cell_type": "markdown",
   "metadata": {},
   "source": [
    "#### Question - 1 (v)"
   ]
  },
  {
   "cell_type": "code",
   "execution_count": 42,
   "metadata": {},
   "outputs": [
    {
     "name": "stdout",
     "output_type": "stream",
     "text": [
      "[[-7 -3 -2 -1]\n",
      " [ 1 -7  2 -3]\n",
      " [-1  0  9 -3]\n",
      " [-4  1  0  9]]\n",
      "Matrix is Diagonally Dominant\n",
      "\n",
      "System of equations:\n",
      "\n",
      "[-7*x1 + -3*x2 + -2*x3 + -1*x4] = [  1]\n",
      "[1*x1 + -7*x2 + 2*x3 + -3*x4] = [  3]\n",
      "[-1*x1 + 0*x2 + 9*x3 + -3*x4] = [  4]\n",
      "[-4*x1 + 1*x2 + 0*x3 + 9*x4] = [  3]\n",
      "\n",
      "Iterations:\n",
      "\n",
      "Iteration 0: [0. 0. 0. 0.]\n",
      "1 Norm 0.0\n",
      "Inf Norm:  0.0\n",
      "Frobenius Norm 0.0\n",
      "**************************************************\n",
      "Iteration 1: [-0.14285714 -0.42857143  0.44444444  0.33333333]\n",
      "1 Norm 1.349206349206349\n",
      "Inf Norm:  0.4444444444444444\n",
      "Frobenius Norm 0.716047210707299\n",
      "**************************************************\n",
      "Iteration 2: [-0.13378685 -0.46485261  0.53968254  0.31746032]\n",
      "1 Norm 1.4557823129251701\n",
      "Inf Norm:  0.5396825396825398\n",
      "Frobenius Norm 0.7912175202887938\n",
      "**************************************************\n",
      "Iteration 3: [-0.14318108 -0.42954325  0.53539934  0.3255228 ]\n",
      "1 Norm 1.4336464744628008\n",
      "Inf Norm:  0.5353993449231544\n",
      "Frobenius Norm 0.773062594672649\n",
      "**************************************************\n",
      "Iteration 4: [-0.15824168 -0.4355644   0.53704304  0.31742432]\n",
      "1 Norm 1.4482734388792051\n",
      "Inf Norm:  0.5370430359092491\n",
      "Frobenius Norm 0.7771294610619692\n",
      "**************************************************\n",
      "\n",
      "After 100 iterations we have\n",
      "\n",
      "Solution: [-0.15398633 -0.43280182  0.53166287  0.31298405]\n",
      "\n",
      "Error term in each x: [ 2.53303822e-10  4.37571757e-10  3.36202177e-10 -2.03584261e-10]\n"
     ]
    },
    {
     "data": {
      "image/png": "[encoded data removed]",
      "text/plain": [
       "<Figure size 432x288 with 1 Axes>"
      ]
     },
     "metadata": {
      "needs_background": "light"
     },
     "output_type": "display_data"
    }
   ],
   "source": [
    "def DiagDom(A):\n",
    "    diag_coeff = np.diag(np.abs(A))\n",
    "    row_sum = np.sum(np.abs(A), axis=1) - diag_coeff\n",
    "    if np.all(diag_coeff > row_sum):\n",
    "        print(\"Matrix is Diagonally Dominant\\n\")\n",
    "    else:\n",
    "        print(\"NOT Diagonally Dominant\\n\")\n",
    "    return\n",
    "\n",
    "\n",
    "n = 100\n",
    "A = generate_Diag_Dominant_matrix()\n",
    "b = np.round(np.random.uniform(1, 5, 4), 0)  # B can be randomly initialised\n",
    "DiagDom(A)\n",
    "iteration_list = gauss_jacobi(A, b, n)\n",
    "# print(iteration_list)\n",
    "\n",
    "plt.plot(iteration_list)\n",
    "plt.xlabel(\"Iterations\")\n",
    "plt.ylabel(\"vector norm\")\n",
    "plt.show()"
   ]
  }
 ],
 "metadata": {
  "kernelspec": {
   "display_name": "Python 3",
   "language": "python",
   "name": "python3"
  },
  "language_info": {
   "codemirror_mode": {
    "name": "ipython",
    "version": 3
   },
   "file_extension": ".py",
   "mimetype": "text/x-python",
   "name": "python",
   "nbconvert_exporter": "python",
   "pygments_lexer": "ipython3",
   "version": "3.8.2"
  },
  "vscode": {
   "interpreter": {
    "hash": "5e20bd2aef74fc10b3f0551d2f817bebd5419700faf57ec5761f74166d3946b2"
   }
  }
 },
 "nbformat": 4,
 "nbformat_minor": 4
}
